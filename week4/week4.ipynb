{
 "cells": [
  {
   "cell_type": "markdown",
   "metadata": {},
   "source": [
    "1. Functions are often used to validate input. Write a function that accepts a single\n",
    "integer as a parameter and returns True if the integer is in the range 0 to 100\n",
    "(inclusive), or False otherwise. Write a short program to test the function"
   ]
  },
  {
   "cell_type": "code",
   "execution_count": 1,
   "metadata": {},
   "outputs": [
    {
     "name": "stdout",
     "output_type": "stream",
     "text": [
      "True\n"
     ]
    }
   ],
   "source": [
    "def num(x):\n",
    "    if x in range(0,101):\n",
    "        return True\n",
    "    else:\n",
    "        return False\n",
    "    \n",
    "x = float(input(\"Enter a number: \"))\n",
    "answer = num(x)\n",
    "print(answer)"
   ]
  },
  {
   "cell_type": "markdown",
   "metadata": {},
   "source": [
    "2. Write a function that has a single string as its parameter, and returns the number of\n",
    "uppercase letters, and the number of lowercase letters in the string. Test the\n",
    "function with a short program."
   ]
  },
  {
   "cell_type": "code",
   "execution_count": 2,
   "metadata": {},
   "outputs": [
    {
     "name": "stdout",
     "output_type": "stream",
     "text": [
      "Uppercase = 0\n",
      "Lowercase = 7\n"
     ]
    }
   ],
   "source": [
    "def letter(word):\n",
    "    lower = 0\n",
    "    upper = 0\n",
    "    for i in word:\n",
    "        z = i\n",
    "        if i.lower() == z:\n",
    "            lower += 1\n",
    "        else:\n",
    "            upper += 1\n",
    "    return lower, upper\n",
    "\n",
    "new = input(\"Enter a word: \")\n",
    "low, up = letter(new)\n",
    "\n",
    "print(f\"Uppercase = {up}\")\n",
    "print(f\"Lowercase = {low}\")"
   ]
  },
  {
   "cell_type": "markdown",
   "metadata": {},
   "source": [
    "3. Modify your \"greetings\" program so that the first letter of the name entered is\n",
    "always in uppercase with the rest in lowercase. This should happen even if the user\n",
    "entered their name differently. So if the user entered arthur, ARTHUR, or even\n",
    "arTHur the name should be displayed as Arthur."
   ]
  },
  {
   "cell_type": "code",
   "execution_count": 3,
   "metadata": {},
   "outputs": [
    {
     "name": "stdout",
     "output_type": "stream",
     "text": [
      "Hello, Kaushal\n"
     ]
    }
   ],
   "source": [
    "def greetings(word):\n",
    "    word = word.title()\n",
    "    return word\n",
    "\n",
    "name = input(\"What's your name? \")\n",
    "greeting = greetings(name)\n",
    "\n",
    "print(f\"Hello, {greeting}\")"
   ]
  },
  {
   "cell_type": "markdown",
   "metadata": {},
   "source": [
    "4. When processing data it is often useful to remove the last character from some\n",
    "input (it is often a newline). Write and test a function that takes a string parameter\n",
    "and returns it with the last character removed. (If the string contains one or fewer\n",
    "characters, return it unchanged.)\n"
   ]
  },
  {
   "cell_type": "code",
   "execution_count": 6,
   "metadata": {},
   "outputs": [
    {
     "name": "stdout",
     "output_type": "stream",
     "text": [
      "kausha\n"
     ]
    }
   ],
   "source": [
    "def remove(word):\n",
    "    new_word = []\n",
    "    get_new = \"\"\n",
    "    a=len(word)\n",
    "    \n",
    "    if a == 0 or a == 1:\n",
    "        print(\"Enter 2 or more letters\")\n",
    "    \n",
    "    else:\n",
    "        for i in word:\n",
    "            new_word += i\n",
    "            \n",
    "        nolast = new_word[:-1]\n",
    "        \n",
    "        for i in nolast:\n",
    "            get_new += i\n",
    "            \n",
    "        print(get_new)\n",
    "\n",
    "inp = input(\"Enter a string: \")\n",
    "word = remove(inp)\n"
   ]
  },
  {
   "cell_type": "markdown",
   "metadata": {},
   "source": [
    "5. Write and test a function that converts a temperature measured in degrees\n",
    "centigrade into the equivalent in fahrenheit, and another that does the reverse\n",
    "conversion. Test both functions. (Google will find you the formulae)."
   ]
  },
  {
   "cell_type": "code",
   "execution_count": 7,
   "metadata": {},
   "outputs": [
    {
     "name": "stdout",
     "output_type": "stream",
     "text": [
      "20.0C = 68.0F\n"
     ]
    }
   ],
   "source": [
    "def centigrade_to_fahrenheit(temp):\n",
    "    fahrenheit = temp * (9/5) + 32\n",
    "    return fahrenheit\n",
    "\n",
    "def fahrenheit_to_centigrade(temp):\n",
    "    centigrade = (temp - 32) * (5/9)\n",
    "    return centigrade\n",
    "\n",
    "a = int(input('''1) Celsius to Fahrenheit 2) Fahrenheit to Celsius'''))\n",
    "\n",
    "if a == 1:\n",
    "    b = float(input(\"Enter temp to convert: \"))\n",
    "    c = centigrade_to_fahrenheit(b)\n",
    "    print(f\"{b}C = {c}F\")\n",
    "    \n",
    "elif a == 2:\n",
    "    b = float(input(\"Enter temp to convert: \"))\n",
    "    c = fahrenheit_to_centigrade(b)\n",
    "    print(f\"{b}F = {c}C\")\n",
    "    \n",
    "else:\n",
    "    print(\"Enter valid option.\")\n",
    "    "
   ]
  },
  {
   "cell_type": "markdown",
   "metadata": {},
   "source": [
    "6. Write a program that takes a centigrade temperature and displays the equivalent in\n",
    "fahrenheit. The input should be a number followed by a letter C. The output should\n",
    "be in the same format"
   ]
  },
  {
   "cell_type": "code",
   "execution_count": 8,
   "metadata": {},
   "outputs": [
    {
     "name": "stdout",
     "output_type": "stream",
     "text": [
      "Invalid unit\n"
     ]
    }
   ],
   "source": [
    "temperature = input(\"Enter temperature in celsius (eg: 30C): \")\n",
    "a = temperature[-1]\n",
    "a = a.lower()\n",
    "b = temperature[:-1]\n",
    "try:\n",
    "    b = float(b)\n",
    "    if (a == \"c\"):\n",
    "        fahrenheit = b * (9/5) - 32\n",
    "        print(f\"{b}C = {fahrenheit}F\")\n",
    "    else:\n",
    "        print(\"Invalid unit\")\n",
    "    \n",
    "except:\n",
    "    print(\"Enter valid number then unit\")\n"
   ]
  },
  {
   "cell_type": "markdown",
   "metadata": {},
   "source": [
    "7. Write a program that reads 6 temperatures (in the same format as before), and\n",
    "displays the maximum, minimum, and mean of the values.\n",
    "Hint: You should know there are built-in functions for max and min. If you hunt, you\n",
    "might also find one for the mean"
   ]
  },
  {
   "cell_type": "code",
   "execution_count": 1,
   "metadata": {},
   "outputs": [
    {
     "name": "stdout",
     "output_type": "stream",
     "text": [
      "123.0\n",
      "12.0\n",
      "66.5\n"
     ]
    }
   ],
   "source": [
    "from statistics import mean\n",
    "\n",
    "def maximum(num):\n",
    "    return max(num)\n",
    "\n",
    "def minimum(num):\n",
    "    return min(num)\n",
    "\n",
    "def means(num):\n",
    "    return mean(num)\n",
    "\n",
    "vals = []\n",
    "for i in range(6):\n",
    "    value = float(input(\"Enter a number: \"))\n",
    "    vals.append(value)\n",
    "\n",
    "print(maximum(vals))\n",
    "print(minimum(vals))\n",
    "print(mean(vals)) "
   ]
  },
  {
   "cell_type": "markdown",
   "metadata": {},
   "source": [
    "8. Modify the previous program so that it can process any number of values. The input\n",
    "terminates when the user just pressed \"Enter\" at the prompt rather than entering a\n",
    "value."
   ]
  },
  {
   "cell_type": "code",
   "execution_count": 3,
   "metadata": {},
   "outputs": [
    {
     "name": "stdout",
     "output_type": "stream",
     "text": [
      "Enter at least one value\n"
     ]
    }
   ],
   "source": [
    "from statistics import mean\n",
    "\n",
    "def maximum(num):\n",
    "    return max(num)\n",
    "\n",
    "def minimum(num):\n",
    "    return min(num)\n",
    "\n",
    "def means(num):\n",
    "    return mean(num)\n",
    "\n",
    "val = []\n",
    "while True:\n",
    "    try:\n",
    "        value = float(input(\"Enter a number: \"))\n",
    "    except ValueError:\n",
    "        break\n",
    "\n",
    "    val.append(value)\n",
    "\n",
    "try: \n",
    "    print(maximum(val))\n",
    "    print(minimum(val))\n",
    "    print(mean(val))\n",
    "\n",
    "except ValueError:\n",
    "    print(\"Enter at least one value\")"
   ]
  }
 ],
 "metadata": {
  "kernelspec": {
   "display_name": "base",
   "language": "python",
   "name": "python3"
  },
  "language_info": {
   "codemirror_mode": {
    "name": "ipython",
    "version": 3
   },
   "file_extension": ".py",
   "mimetype": "text/x-python",
   "name": "python",
   "nbconvert_exporter": "python",
   "pygments_lexer": "ipython3",
   "version": "3.9.13"
  }
 },
 "nbformat": 4,
 "nbformat_minor": 2
}
