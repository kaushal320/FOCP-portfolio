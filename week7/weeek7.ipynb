{
 "cells": [
  {
   "cell_type": "markdown",
   "metadata": {},
   "source": [
    "Write and test a function that takes a string as a parameter and returns a sorted list\n",
    "of all the unique letters used in the string. So, if the string is cheese, the list\n",
    "returned should be ['c', 'e', 'h', 's']. "
   ]
  },
  {
   "cell_type": "code",
   "execution_count": 1,
   "metadata": {},
   "outputs": [
    {
     "name": "stdout",
     "output_type": "stream",
     "text": [
      "The unique letters in 'cheese' are: ['c', 'e', 'h', 's']\n"
     ]
    }
   ],
   "source": [
    "def letters():\n",
    "    string = input(\"Enter a string: \")\n",
    "    unique = list(set(string))\n",
    "    \n",
    "    for i in range(len(unique)):\n",
    "        for j in range(i + 1, len(unique)):\n",
    "            if unique[i] > unique[j]:\n",
    "                unique[i], unique[j] = unique[j], unique[i] \n",
    "    print(\"The unique letters in '%s' are: %s\" % (string, unique))\n",
    "\n",
    "letters()"
   ]
  },
  {
   "cell_type": "markdown",
   "metadata": {},
   "source": [
    "Write and test three functions that each take two words (strings) as parameters and\n",
    "return sorted lists (as defined above) representing respectively:\n",
    "Letters that appear in at least one of the two words.\n",
    "Letters that appear in both words.\n",
    "Letters that appear in either word, but not in both.\n",
    "Hint: These could all be done programmatically, but consider carefully what topic we\n",
    "have been discussing this week! Each function can be exactly one line."
   ]
  },
  {
   "cell_type": "code",
   "execution_count": 2,
   "metadata": {},
   "outputs": [
    {
     "name": "stdout",
     "output_type": "stream",
     "text": [
      "Letters that appear in at least one of the two words: ['P', 'T', 'a', 'g', 'k', 'm', 'o', 'r', 's']\n",
      "Letters that appear in both words: ['a']\n",
      "Letters that appear in either word, but not in both: ['P', 'T', 'g', 'k', 'm', 'o', 'r', 's']\n"
     ]
    }
   ],
   "source": [
    "def either_word(word1, word2):\n",
    "    return sorted(list(set(word1) | set(word2)))\n",
    "\n",
    "def both_words(word1, word2):\n",
    "    return sorted(list(set(word1) & set(word2)))\n",
    "\n",
    "def one_word_only(word1, word2):\n",
    "    return sorted(list(set(word1) ^ set(word2)))\n",
    "\n",
    "word1 = \"Task\"\n",
    "word2 = \"Program\"\n",
    "\n",
    "print(f\"Letters that appear in at least one of the two words: {either_word(word1, word2)}\")\n",
    "print(f\"Letters that appear in both words: {both_words(word1, word2)}\")\n",
    "print(f\"Letters that appear in either word, but not in both: {one_word_only(word1, word2)}\")"
   ]
  },
  {
   "cell_type": "markdown",
   "metadata": {},
   "source": [
    "Write a program that manages a list of countries and their capital cities. It should\n",
    "prompt the user to enter the name of a country. If the program already \"knows\"\n",
    "the name of the capital city, it should display it. Otherwise it should ask the user to\n",
    "enter it. This should carry on until the user terminates the program (how this\n",
    "happens is up to you).\n",
    "Note: A good solution to this task will be able to cope with the country being entered\n",
    "variously as, for example, \"Wales\", \"wales\", \"WALES\" and so on"
   ]
  },
  {
   "cell_type": "code",
   "execution_count": 5,
   "metadata": {},
   "outputs": [
    {
     "name": "stdout",
     "output_type": "stream",
     "text": [
      "Added wales and its capital Wales to the list.\n",
      "Added WALES and its capital WALe to the list.\n"
     ]
    }
   ],
   "source": [
    "def manage():\n",
    "    countries = {}\n",
    "\n",
    "    while True:\n",
    "        country = input(\"Enter a country (or 'quit' to exit): \")\n",
    "        if country.lower() == 'quit':\n",
    "            break\n",
    "\n",
    "        if country in countries:\n",
    "            print(f\"The capital of {country} is {countries[country]}.\")\n",
    "        else:\n",
    "            capital = input(f\"Enter the capital of {country}: \")\n",
    "            countries[country] = capital\n",
    "            print(f\"Added {country} and its capital {capital} to the list.\")\n",
    "\n",
    "manage()"
   ]
  },
  {
   "cell_type": "code",
   "execution_count": null,
   "metadata": {},
   "outputs": [],
   "source": []
  }
 ],
 "metadata": {
  "kernelspec": {
   "display_name": "base",
   "language": "python",
   "name": "python3"
  },
  "language_info": {
   "codemirror_mode": {
    "name": "ipython",
    "version": 3
   },
   "file_extension": ".py",
   "mimetype": "text/x-python",
   "name": "python",
   "nbconvert_exporter": "python",
   "pygments_lexer": "ipython3",
   "version": "3.9.13"
  }
 },
 "nbformat": 4,
 "nbformat_minor": 2
}
