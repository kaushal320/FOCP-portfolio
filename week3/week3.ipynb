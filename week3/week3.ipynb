{
 "cells": [
  {
   "cell_type": "markdown",
   "metadata": {},
   "source": [
    "1. Modify your greeting program so that if the user does not enter a name (i.e. they\n",
    "just press enter), the program responds \"Hello, Stranger!\". Otherwise it should print\n",
    "a greeting with their name as before.\n"
   ]
  },
  {
   "cell_type": "code",
   "execution_count": 2,
   "metadata": {},
   "outputs": [
    {
     "name": "stdout",
     "output_type": "stream",
     "text": [
      "Hello, stranger\n"
     ]
    }
   ],
   "source": [
    "name = input(\"Enter your name: \")\n",
    "if not name:\n",
    "    print(\"Hello, stranger\")\n",
    "else:\n",
    "    print(f\"Hello, {name}\")"
   ]
  },
  {
   "cell_type": "markdown",
   "metadata": {},
   "source": [
    "2. Write a program that simulates the way in which a user might choose a password.\n",
    "The program should prompt for a new password, and then prompt again. If the two\n",
    "passwords entered are the same the program should say \"Password Set\" or\n",
    "similar, otherwise it should report an error"
   ]
  },
  {
   "cell_type": "code",
   "execution_count": 3,
   "metadata": {},
   "outputs": [
    {
     "name": "stdout",
     "output_type": "stream",
     "text": [
      "Password Set\n"
     ]
    }
   ],
   "source": [
    "password = input(\"Enter password: \")\n",
    "newpassword = input(\"Re-enter password: \")\n",
    "\n",
    "if password == newpassword:\n",
    "    print(\"Password Set\")\n",
    "else:\n",
    "    print(\"Passwords do not match.\")"
   ]
  },
  {
   "cell_type": "markdown",
   "metadata": {},
   "source": [
    "3. Modify your previous program so that the password must be between 8 and 12\n",
    "characters (inclusive) long.\n"
   ]
  },
  {
   "cell_type": "code",
   "execution_count": 4,
   "metadata": {},
   "outputs": [
    {
     "name": "stdout",
     "output_type": "stream",
     "text": [
      "Password should be between 8 and 12 characters\n"
     ]
    }
   ],
   "source": [
    "password = input(\"Enter password: \")\n",
    "a=len(password)\n",
    "if a >= 8 and a <= 12:\n",
    "    wordpass = input(\"Re-enter password: \")\n",
    "\n",
    "    if password == wordpass:\n",
    "        print(\"Password Set\")\n",
    "    else:\n",
    "        print(\"Passwords do not match.\")\n",
    "        \n",
    "else:\n",
    "    print(\"Password should be between 8 and 12 characters\")"
   ]
  },
  {
   "cell_type": "markdown",
   "metadata": {},
   "source": [
    "4. Modify your program again so that the chosen password cannot be one of a list of\n",
    "common passwords, defined thus:\n",
    "BAD_PASSWORDS = ['password', 'letmein', 'sesame', 'hello', 'justinbieber']"
   ]
  },
  {
   "cell_type": "code",
   "execution_count": null,
   "metadata": {},
   "outputs": [],
   "source": [
    "wrongpassword = ['password', 'letmein', 'sesame', 'hello', 'justinbieber']\n",
    "password = input(\"Enter password: \")\n",
    "\n",
    "if len(password) >= 8 and len(password) <= 12 and password not in wrongpassword:\n",
    "    wordpassword = input(\"Re-enter password: \")\n",
    "\n",
    "    if password == wordpassword:\n",
    "        print(\"Password Set\")\n",
    "    else:\n",
    "        print(\"Passwords do not match.\")\n",
    "        \n",
    "else:\n",
    "    print(\"Password should be between 8 and 12 characters\")\n",
    "    print(f\"Password should not be {wrongpassword}\")"
   ]
  },
  {
   "cell_type": "markdown",
   "metadata": {},
   "source": [
    "5. Modify your program a final time so that it executes until the user successfully\n",
    "chooses a password. That is, if the password chosen fails any of the checks, the\n",
    "program should return to asking for the password the first time."
   ]
  },
  {
   "cell_type": "code",
   "execution_count": 2,
   "metadata": {},
   "outputs": [
    {
     "name": "stdout",
     "output_type": "stream",
     "text": [
      "Password should be between 8 and 12 characters\n",
      "Password should not be ['password', 'letmein', 'sesame', 'hello', 'justinbieber']\n",
      "Password Set\n"
     ]
    }
   ],
   "source": [
    "wrongpassword = ['password', 'letmein', 'sesame', 'hello', 'justinbieber']\n",
    "\n",
    "\n",
    "while True:\n",
    "    password = input(\"Enter password: \")\n",
    "    a=len(password)\n",
    "\n",
    "    if a >= 8 and a <= 12 and password not in wrongpassword:\n",
    "        wordpass = input(\"Re-enter password: \")\n",
    "\n",
    "        if password == wordpass:\n",
    "            print(\"Password Set\")\n",
    "            break\n",
    "        else:\n",
    "            print(\"Passwords do not match.\")\n",
    "            \n",
    "    else:\n",
    "        print(\"Password should be between 8 and 12 characters\")\n",
    "        print(f\"Password should not be {wrongpassword}\")"
   ]
  },
  {
   "cell_type": "markdown",
   "metadata": {},
   "source": [
    "6. Write a program that displays the \"Seven Times Table\". That is, the result of\n",
    "multiplying 7 by every number from 0 to 12 inclusive. The output might start:\n",
    "0 x 7 = 0\n",
    "1 x 7 = 7\n",
    "2 x 7 = 14\n",
    "and so on.\n"
   ]
  },
  {
   "cell_type": "code",
   "execution_count": 3,
   "metadata": {},
   "outputs": [
    {
     "name": "stdout",
     "output_type": "stream",
     "text": [
      "7 * 0 = 0\n",
      "7 * 1 = 7\n",
      "7 * 2 = 14\n",
      "7 * 3 = 21\n",
      "7 * 4 = 28\n",
      "7 * 5 = 35\n",
      "7 * 6 = 42\n",
      "7 * 7 = 49\n",
      "7 * 8 = 56\n",
      "7 * 9 = 63\n",
      "7 * 10 = 70\n",
      "7 * 11 = 77\n",
      "7 * 12 = 84\n"
     ]
    }
   ],
   "source": [
    "num = 7\n",
    "for i in range(13):\n",
    "    print(f\"{num} * {i} = {num*i}\")"
   ]
  },
  {
   "cell_type": "markdown",
   "metadata": {},
   "source": [
    "7. Modify your \"Times Table\" program so that the user enters the number of the table\n",
    "they require. This number should be between 0 and 12 inclusive.\n"
   ]
  },
  {
   "cell_type": "code",
   "execution_count": 6,
   "metadata": {},
   "outputs": [
    {
     "name": "stdout",
     "output_type": "stream",
     "text": [
      "8 * 0 = 0\n",
      "8 * 1 = 8\n",
      "8 * 2 = 16\n",
      "8 * 3 = 24\n",
      "8 * 4 = 32\n",
      "8 * 5 = 40\n",
      "8 * 6 = 48\n",
      "8 * 7 = 56\n",
      "8 * 8 = 64\n",
      "8 * 9 = 72\n",
      "8 * 10 = 80\n",
      "8 * 11 = 88\n",
      "8 * 12 = 96\n"
     ]
    }
   ],
   "source": [
    "num = int(input(\"Enter number to get table: \"))\n",
    "for i in range(13):\n",
    "    print(f\"{num} * {i} = {num*i}\")"
   ]
  },
  {
   "cell_type": "markdown",
   "metadata": {},
   "source": [
    "8. Modify the \"Times Table\" again so that the user still enters the number of the table,\n",
    "but if this number is negative the table is printed backwards. So entering \"-7\"\n",
    "would produce the Seven Times Table starting at \"12 times\" down to \"0 times\""
   ]
  },
  {
   "cell_type": "code",
   "execution_count": 8,
   "metadata": {},
   "outputs": [
    {
     "name": "stdout",
     "output_type": "stream",
     "text": [
      "-7 * 12 = -84\n",
      "-7 * 11 = -77\n",
      "-7 * 10 = -70\n",
      "-7 * 9 = -63\n",
      "-7 * 8 = -56\n",
      "-7 * 7 = -49\n",
      "-7 * 6 = -42\n",
      "-7 * 5 = -35\n",
      "-7 * 4 = -28\n",
      "-7 * 3 = -21\n",
      "-7 * 2 = -14\n",
      "-7 * 1 = -7\n",
      "-7 * 0 = 0\n"
     ]
    }
   ],
   "source": [
    "number = int(input(\"Enter number to get table: \"))\n",
    "\n",
    "if number >= 0:\n",
    "    for i in range(13):\n",
    "        print(f\"{number} * {i} = {number*i}\")\n",
    "        \n",
    "else:        \n",
    "    for i in range(12, -1, -1):\n",
    "        print(f\"{number} * {i} = {number*i}\")"
   ]
  }
 ],
 "metadata": {
  "kernelspec": {
   "display_name": "base",
   "language": "python",
   "name": "python3"
  },
  "language_info": {
   "codemirror_mode": {
    "name": "ipython",
    "version": 3
   },
   "file_extension": ".py",
   "mimetype": "text/x-python",
   "name": "python",
   "nbconvert_exporter": "python",
   "pygments_lexer": "ipython3",
   "version": "3.9.13"
  }
 },
 "nbformat": 4,
 "nbformat_minor": 2
}
