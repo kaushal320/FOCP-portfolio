{
 "cells": [
  {
   "cell_type": "markdown",
   "metadata": {},
   "source": [
    "Code of week 1"
   ]
  },
  {
   "cell_type": "markdown",
   "metadata": {},
   "source": [
    "1. Write a program that prints a cheery message (such as \"Hello World\") on the\n",
    "screen. Run it, and note that you have taken the first step to becoming a\n",
    "programmer!\n"
   ]
  },
  {
   "cell_type": "code",
   "execution_count": 2,
   "metadata": {},
   "outputs": [
    {
     "name": "stdout",
     "output_type": "stream",
     "text": [
      "hello world\n"
     ]
    }
   ],
   "source": [
    "print(\"hello world\")"
   ]
  },
  {
   "cell_type": "markdown",
   "metadata": {},
   "source": [
    "2. Make a copy of the previous program, and modify it so that it displays your name.\n",
    "So if your name is Herbert the message should become:\n",
    "Hello, Herbert!\n"
   ]
  },
  {
   "cell_type": "code",
   "execution_count": 3,
   "metadata": {},
   "outputs": [
    {
     "name": "stdout",
     "output_type": "stream",
     "text": [
      "hello,kaushal!\n"
     ]
    }
   ],
   "source": [
    "name=\"kaushal\"\n",
    "print(f\"hello,{name}!\")"
   ]
  },
  {
   "cell_type": "markdown",
   "metadata": {},
   "source": [
    "3. Over the summer, temperatures in Yorkshire reached 38.4C. Write a program that\n",
    "converts this value in Celsius to the equivalent temperature in Fahrenheit, and then\n",
    "displays both.\n"
   ]
  },
  {
   "cell_type": "code",
   "execution_count": 5,
   "metadata": {},
   "outputs": [
    {
     "name": "stdout",
     "output_type": "stream",
     "text": [
      "38.4 is temperature in celsius and 101.12  in Fahrenheit\n"
     ]
    }
   ],
   "source": [
    "temp_in_cel=38.4\n",
    "temp_in_fah =temp_in_cel* (9/5) + 32\n",
    "print(f\"{temp_in_cel} is temperature in celsius and {temp_in_fah}  in Fahrenheit\")"
   ]
  },
  {
   "cell_type": "markdown",
   "metadata": {},
   "source": [
    "4. In a long career for Yorkshire, Geoffrey Boycott played 609 matches, batted 1014\n",
    "times, was not out 162 times, and scored 48426 runs. Write a program to calculate\n",
    "and display Boycott's batting average.\n"
   ]
  },
  {
   "cell_type": "code",
   "execution_count": 6,
   "metadata": {},
   "outputs": [
    {
     "name": "stdout",
     "output_type": "stream",
     "text": [
      "Boycott's batting average was 56.83802816901409\n"
     ]
    }
   ],
   "source": [
    "batted= 1014\n",
    "not_out = 162\n",
    "scored= 48426\n",
    "a=batted - not_out\n",
    "average= scored/a\n",
    "print(f\"Boycott's batting average was {average}\")"
   ]
  },
  {
   "cell_type": "markdown",
   "metadata": {},
   "source": [
    "5. The Head of Computing at the University of Poppleton is tasked with dividing a\n",
    "group of students into lab groups. A lab group is 24 students, since this is the\n",
    "number of PCs in a lab. Write a program that calculates how many groups are\n",
    "needed for the following number of students: 113, 175, 12. Display how many full\n",
    "groups there will be, and how many students will be in the smaller \"left over\"\n",
    "group."
   ]
  },
  {
   "cell_type": "code",
   "execution_count": 7,
   "metadata": {},
   "outputs": [
    {
     "name": "stdout",
     "output_type": "stream",
     "text": [
      "In total there will be 11 groups with 36 leftover students.\n"
     ]
    }
   ],
   "source": [
    "lab_group = 24\n",
    "first_students = 113\n",
    "second_student = 175\n",
    "third_students = 12\n",
    "\n",
    "group_1 = first_students //lab_group\n",
    "group_2 = second_student // lab_group\n",
    "group_3 = third_students // lab_group\n",
    "total_groups = group_1 + group_2 + group_3\n",
    "\n",
    "remaining_1 = first_students % lab_group\n",
    "remaining_2 = second_student % lab_group\n",
    "remaining_3 = third_students % lab_group\n",
    "leftover = remaining_1 + remaining_2 + remaining_3\n",
    "\n",
    "print(f\"In total there will be {total_groups} groups with {leftover} leftover students.\")"
   ]
  },
  {
   "cell_type": "markdown",
   "metadata": {},
   "source": []
  }
 ],
 "metadata": {
  "kernelspec": {
   "display_name": "base",
   "language": "python",
   "name": "python3"
  },
  "language_info": {
   "codemirror_mode": {
    "name": "ipython",
    "version": 3
   },
   "file_extension": ".py",
   "mimetype": "text/x-python",
   "name": "python",
   "nbconvert_exporter": "python",
   "pygments_lexer": "ipython3",
   "version": "3.9.13"
  }
 },
 "nbformat": 4,
 "nbformat_minor": 2
}
