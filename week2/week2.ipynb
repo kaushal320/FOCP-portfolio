{
 "cells": [
  {
   "cell_type": "markdown",
   "metadata": {},
   "source": [
    "1. Last week you wrote a program that printed out a cheery greeting including your\n",
    "name. Take a copy of it, and modify it so that the user enters their name at the\n",
    "keyboard, and then receives a greeting"
   ]
  },
  {
   "cell_type": "code",
   "execution_count": 4,
   "metadata": {},
   "outputs": [
    {
     "name": "stdout",
     "output_type": "stream",
     "text": [
      "Hello, Mr Kaushal. Good to meet you!\n"
     ]
    }
   ],
   "source": [
    "name = input(\"Hello, what is your name? \")\n",
    "name = name.title()\n",
    "print(f\"Hello, {name}. Good to meet you!\")"
   ]
  },
  {
   "cell_type": "markdown",
   "metadata": {},
   "source": [
    "2. Write a program that prompts a user to enter a temperature in Celsius, and then\n",
    "displays the corresponding temperature in Fahrenheit, like so:\n",
    "Enter a temperature in Celsius: 32.5\n",
    "32.5C is equivalent to 90.5F.\n"
   ]
  },
  {
   "cell_type": "code",
   "execution_count": 6,
   "metadata": {},
   "outputs": [
    {
     "name": "stdout",
     "output_type": "stream",
     "text": [
      "32.5C is equivalent to 89.6F\n"
     ]
    }
   ],
   "source": [
    "celsius = float(input(\"Enter a temperature in Celsius: \"))\n",
    "fahren = celsius * (9/5) + 32\n",
    "print(f\"{celsius}C is equivalent to {fahren}F\")"
   ]
  },
  {
   "cell_type": "markdown",
   "metadata": {},
   "source": [
    "3. The Head of Computing at the University of Poppleton is tasked with dividing a\n",
    "group of students into lab groups. A lab group is usually 24 students, but this is\n",
    "sometimes varied to create groups of similar size. Write a program that prompts for\n",
    "the number of students and group size, and then displays how many groups will be\n",
    "needed and how many will be left over in a smaller group.\n",
    "How many students? 113\n",
    "Required group size? 22\n",
    "There will be 5 groups with 3 students left over.\n",
    "For bonus credit, see if you can fix the grammar in the output. So if there were 101\n",
    "students in groups of 20 the output would be:\n",
    "There will be 5 groups with 1 student left over."
   ]
  },
  {
   "cell_type": "code",
   "execution_count": 10,
   "metadata": {},
   "outputs": [
    {
     "name": "stdout",
     "output_type": "stream",
     "text": [
      "There will be 5 groups with 3 students left over.\n"
     ]
    }
   ],
   "source": [
    "try:\n",
    "    student = int(input(\"How many students? \"))\n",
    "    size = int(input(\"Required group size? \"))\n",
    "    \n",
    "    if student < 0 or size < 0:\n",
    "        raise Exception(\"No negative numbers\")\n",
    "    \n",
    "    groups = student // size\n",
    "    rem = student % size\n",
    "    \n",
    "    if groups == 1 and rem != 1:\n",
    "        print(f\"There will be {groups} group with {rem} students left over.\")\n",
    "        \n",
    "    elif groups != 1 and rem == 1:    \n",
    "        print(f\"There will be {groups} groups with {rem} student left over.\")\n",
    "\n",
    "    elif groups == 1 and rem == 1:\n",
    "            print(f\"There will be {groups} group with {rem} student left over.\")\n",
    "\n",
    "    else:\n",
    "        print(f\"There will be {groups} groups with {rem} students left over.\")\n",
    "\n",
    "except:\n",
    "    print(\"Integers only\")"
   ]
  },
  {
   "cell_type": "markdown",
   "metadata": {},
   "source": [
    "4. A kindly teacher wishes to distribute a tub of sweets between her pupils. She will\n",
    "first count the sweets and then divide them according to how many pupils attend\n",
    "that day. Write a program that will tell the teacher how many sweets to give to each\n",
    "pupil, and how many she will have left over."
   ]
  },
  {
   "cell_type": "code",
   "execution_count": 11,
   "metadata": {},
   "outputs": [
    {
     "name": "stdout",
     "output_type": "stream",
     "text": [
      "Each student will get 1 sweets!\n"
     ]
    }
   ],
   "source": [
    "pupils = int(input(\"Number of pupils? \"))\n",
    "sweets = int(input(\"How many sweets? \"))\n",
    "\n",
    "get_sweet = pupils // sweets\n",
    "rem_sweets = pupils % sweets\n",
    "\n",
    "print(f\"Each student will get {get_sweet} sweets!\")"
   ]
  }
 ],
 "metadata": {
  "kernelspec": {
   "display_name": "base",
   "language": "python",
   "name": "python3"
  },
  "language_info": {
   "codemirror_mode": {
    "name": "ipython",
    "version": 3
   },
   "file_extension": ".py",
   "mimetype": "text/x-python",
   "name": "python",
   "nbconvert_exporter": "python",
   "pygments_lexer": "ipython3",
   "version": "3.9.13"
  }
 },
 "nbformat": 4,
 "nbformat_minor": 2
}
