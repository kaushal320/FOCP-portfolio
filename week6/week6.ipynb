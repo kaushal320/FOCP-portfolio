{
 "cells": [
  {
   "cell_type": "markdown",
   "metadata": {},
   "source": [
    "Write a function that accepts a positive integer as a parameter and then returns a\n",
    "representation of that number in binary (base 2)."
   ]
  },
  {
   "cell_type": "code",
   "execution_count": 2,
   "metadata": {},
   "outputs": [
    {
     "name": "stdout",
     "output_type": "stream",
     "text": [
      "The equivalent binary of the integer is 1111011\n"
     ]
    }
   ],
   "source": [
    "def binary():\n",
    "    n = int(input(\"Enter a positive integer: \"))\n",
    "    binary = \"\" # Empty string to represent in binary\n",
    "    while n > 0:\n",
    "        binary = str(n % 2) + binary\n",
    "        n = n // 2\n",
    "    return binary\n",
    "print(\"The equivalent binary of the integer is\", binary()) "
   ]
  },
  {
   "cell_type": "markdown",
   "metadata": {},
   "source": [
    "2. Write and test a function that takes an integer as its parameter and returns the\n",
    "factors of that integer. (A factor is an integer which can be multiplied by another to\n",
    "yield the original).\n"
   ]
  },
  {
   "cell_type": "code",
   "execution_count": 5,
   "metadata": {},
   "outputs": [
    {
     "name": "stdout",
     "output_type": "stream",
     "text": [
      "The factors of 12 are: 1 2 3 4 6 12 \n"
     ]
    }
   ],
   "source": [
    "def factors():\n",
    "    n = int(input(\"Enter a positive integer: \"))\n",
    "    print(\"The factors of %d are:\" % n, end=\" \")\n",
    "    for i in range(1, n + 1):\n",
    "        if n % i == 0:\n",
    "            print(i, end=\" \")\n",
    "    print()\n",
    "factors()"
   ]
  },
  {
   "cell_type": "markdown",
   "metadata": {},
   "source": [
    "Write and test a function that determines if a given integer is a prime number. A\n",
    "prime number is an integer greater than 1 that cannot be produced by multiplying\n",
    "two other integers"
   ]
  },
  {
   "cell_type": "code",
   "execution_count": 6,
   "metadata": {},
   "outputs": [
    {
     "name": "stdout",
     "output_type": "stream",
     "text": [
      "23 is a prime number.\n"
     ]
    }
   ],
   "source": [
    "def prime():\n",
    "    a = int(input(\"Enter a positive integer: \"))\n",
    "    if a > 1:\n",
    "        for i in range(2, a):\n",
    "            if a % i == 0:\n",
    "                print(\"%d is not a prime number.\" % a)\n",
    "                break\n",
    "        else:\n",
    "            print(\"%d is a prime number.\" % a)\n",
    "    else:\n",
    "        print(\"%d is not a prime number.\" % a)\n",
    "\n",
    "prime()"
   ]
  },
  {
   "cell_type": "markdown",
   "metadata": {},
   "source": [
    "4. Computers are commonly used in encryption. A very simple form of encryption\n",
    "(more accurately \"obfuscation\") would be to remove the spaces from a message\n",
    "and reverse the resulting string. Write, and test, a function that takes a string\n",
    "containing a message and \"encrypts\" it in this way.\n"
   ]
  },
  {
   "cell_type": "code",
   "execution_count": 1,
   "metadata": {},
   "outputs": [
    {
     "name": "stdout",
     "output_type": "stream",
     "text": [
      "The encrypted message is: lahsuak\n"
     ]
    }
   ],
   "source": [
    "def message():\n",
    "    message = input(\"Enter a message: \")\n",
    "    encrypted_message = message.replace(\" \", \"\")[::-1]\n",
    "    print(\"The encrypted message is: %s\" % encrypted_message)\n",
    "\n",
    "message()"
   ]
  }
 ],
 "metadata": {
  "kernelspec": {
   "display_name": "base",
   "language": "python",
   "name": "python3"
  },
  "language_info": {
   "codemirror_mode": {
    "name": "ipython",
    "version": 3
   },
   "file_extension": ".py",
   "mimetype": "text/x-python",
   "name": "python",
   "nbconvert_exporter": "python",
   "pygments_lexer": "ipython3",
   "version": "3.9.13"
  }
 },
 "nbformat": 4,
 "nbformat_minor": 2
}
